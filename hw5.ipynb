{
 "cells": [
  {
   "cell_type": "code",
   "execution_count": 12,
   "metadata": {},
   "outputs": [
    {
     "ename": "ModuleNotFoundError",
     "evalue": "No module named 'pandas'",
     "output_type": "error",
     "traceback": [
      "\u001b[0;31m---------------------------------------------------------------------------\u001b[0m",
      "\u001b[0;31mModuleNotFoundError\u001b[0m                       Traceback (most recent call last)",
      "Cell \u001b[0;32mIn[12], line 2\u001b[0m\n\u001b[1;32m      1\u001b[0m \u001b[39mimport\u001b[39;00m \u001b[39mos\u001b[39;00m\n\u001b[0;32m----> 2\u001b[0m \u001b[39mimport\u001b[39;00m \u001b[39mpandas\u001b[39;00m \u001b[39mas\u001b[39;00m \u001b[39mpd\u001b[39;00m\n\u001b[1;32m      4\u001b[0m \u001b[39m# Define the path to the directory containing the files\u001b[39;00m\n\u001b[1;32m      5\u001b[0m directory_path \u001b[39m=\u001b[39m \u001b[39m'\u001b[39m\u001b[39m/Users/hosseinmirzagholi/Documents/GoIt_Data_Science_HW5/data/\u001b[39m\u001b[39m'\u001b[39m\n",
      "\u001b[0;31mModuleNotFoundError\u001b[0m: No module named 'pandas'"
     ]
    }
   ],
   "source": [
    "import os\n",
    "import pandas as pd\n",
    "\n",
    "# Define the path to the directory containing the files\n",
    "directory_path = '/Users/hosseinmirzagholi/Documents/GoIt_Data_Science_HW5/data/'\n",
    "\n",
    "# Initialize an empty list to hold the data\n",
    "data_list = []\n",
    "\n",
    "# Loop over the files in the directory and load them into DataFrames\n",
    "for filename in os.listdir(directory_path):\n",
    "    if filename.endswith('.csv'):\n",
    "        file_path = os.path.join(directory_path, filename)\n",
    "        data = pd.read_csv(file_path)\n",
    "        data_list.append(data)\n",
    "\n",
    "# Concatenate all the DataFrames into a single DataFrame\n",
    "full_data = pd.concat(data_list, ignore_index=True)\n",
    "\n",
    "# Display the first few rows of the combined dataset\n",
    "print(full_data.head())\n"
   ]
  }
 ],
 "metadata": {
  "kernelspec": {
   "display_name": "Python 3",
   "language": "python",
   "name": "python3"
  },
  "language_info": {
   "codemirror_mode": {
    "name": "ipython",
    "version": 3
   },
   "file_extension": ".py",
   "mimetype": "text/x-python",
   "name": "python",
   "nbconvert_exporter": "python",
   "pygments_lexer": "ipython3",
   "version": "3.11.4"
  },
  "orig_nbformat": 4
 },
 "nbformat": 4,
 "nbformat_minor": 2
}
